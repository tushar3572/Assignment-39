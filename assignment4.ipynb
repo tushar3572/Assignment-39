{
 "cells": [
  {
   "cell_type": "code",
   "execution_count": null,
   "id": "5bf2c440-5624-445b-9cdd-44bcb7b373e8",
   "metadata": {},
   "outputs": [],
   "source": [
    "  #Answer: 1 \n",
    "    \n",
    "# Import necessary libraries\n",
    "import pandas as pd\n",
    "import numpy as np\n",
    "import matplotlib.pyplot as plt\n",
    "from sklearn.decomposition import PCA\n",
    "from sklearn.preprocessing import StandardScaler\n",
    "from sklearn.cluster import KMeans\n",
    "from sklearn.metrics import silhouette_score\n",
    "\n",
    "# Step 1: Download and Load the Dataset\n",
    "# Download the wine dataset from the provided link and load it into a Pandas DataFrame\n",
    "\n",
    "# Step 2: Data Preprocessing\n",
    "# Handle missing values, scaling, normalization, etc.\n",
    "\n",
    "# Step 3: Implement PCA\n",
    "# Instantiate and fit the PCA model\n",
    "pca = PCA()\n",
    "X_pca = pca.fit_transform(X)  # X is your preprocessed feature matrix\n",
    "\n",
    "# Determine the optimal number of components based on explained variance ratio\n",
    "explained_variance_ratio = pca.explained_variance_ratio_\n",
    "cumulative_explained_variance = np.cumsum(explained_variance_ratio)\n",
    "optimal_num_components = np.argmax(cumulative_explained_variance >= 0.95) + 1  # Retain 95% of variance\n",
    "\n",
    "# Step 4: Visualize PCA Results\n",
    "# Scatter plot of the first two principal components\n",
    "plt.scatter(X_pca[:, 0], X_pca[:, 1], c=y, cmap='viridis', alpha=0.5)\n",
    "plt.xlabel('Principal Component 1')\n",
    "plt.ylabel('Principal Component 2')\n",
    "plt.title('PCA Scatter Plot')\n",
    "plt.colorbar(label='Target')\n",
    "plt.show()\n",
    "\n",
    "# Step 5: Perform K-Means Clustering\n",
    "# Instantiate and fit KMeans model\n",
    "kmeans = KMeans(n_clusters=3, random_state=42)  # Assuming 3 clusters\n",
    "kmeans.fit(X_pca)\n",
    "\n",
    "# Step 6: Interpret Results\n",
    "# Calculate silhouette score to evaluate clustering performance\n",
    "silhouette_avg = silhouette_score(X_pca, kmeans.labels_)\n",
    "print(\"Silhouette Score:\", silhouette_avg)\n",
    "\n",
    "# Additional analysis and interpretation as needed\n",
    "\n",
    "    "
   ]
  }
 ],
 "metadata": {
  "kernelspec": {
   "display_name": "Python 3 (ipykernel)",
   "language": "python",
   "name": "python3"
  },
  "language_info": {
   "codemirror_mode": {
    "name": "ipython",
    "version": 3
   },
   "file_extension": ".py",
   "mimetype": "text/x-python",
   "name": "python",
   "nbconvert_exporter": "python",
   "pygments_lexer": "ipython3",
   "version": "3.10.8"
  }
 },
 "nbformat": 4,
 "nbformat_minor": 5
}
